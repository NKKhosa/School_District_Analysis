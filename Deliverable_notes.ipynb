{
 "cells": [
  {
   "cell_type": "code",
   "execution_count": null,
   "id": "3f55aefe",
   "metadata": {},
   "outputs": [],
   "source": [
    "# DELIVERABLES\n",
    "\n",
    "# A high-level snapshot of the district's key metrics, presented in a table format\n",
    "\n",
    "# An overview of the key metrics for each school, presented in a table format\n",
    "\n",
    "# Tables presenting each of the following metrics:\n",
    "    # Top 5 and bottom 5 performing schools, based on the overall passing rate\n",
    "    # The average math score received by students in each grade level at each school\n",
    "    # The average reading score received by students in each grade level at each school\n",
    "    # School performance based on the budget per student\n",
    "    # School performance based on the school size \n",
    "    # School performance based on the type of school"
   ]
  }
 ],
 "metadata": {
  "kernelspec": {
   "display_name": "PyhtonData",
   "language": "python",
   "name": "pyhtondata"
  },
  "language_info": {
   "codemirror_mode": {
    "name": "ipython",
    "version": 3
   },
   "file_extension": ".py",
   "mimetype": "text/x-python",
   "name": "python",
   "nbconvert_exporter": "python",
   "pygments_lexer": "ipython3",
   "version": "3.9.7"
  }
 },
 "nbformat": 4,
 "nbformat_minor": 5
}
